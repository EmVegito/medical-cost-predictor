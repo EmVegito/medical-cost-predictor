{
 "cells": [
  {
   "cell_type": "code",
   "execution_count": 1,
   "id": "a90b87c1",
   "metadata": {},
   "outputs": [
    {
     "data": {
      "application/json": {
       "features": [
        [
         1,
         2
        ],
        [
         3,
         4
        ],
        [
         5,
         6
        ]
       ],
       "labels": [
        0,
        1,
        0
       ]
      },
      "text/plain": [
       "<IPython.core.display.JSON object>"
      ]
     },
     "metadata": {
      "application/json": {
       "expanded": false,
       "root": "root"
      }
     },
     "output_type": "display_data"
    }
   ],
   "source": [
    "from zenml.client import Client\n",
    "\n",
    "artifact = Client().get_artifact_version(\"5c2788ed-5a00-4329-ac16-df961e831605\")\n",
    "artifact.visualize()"
   ]
  }
 ],
 "metadata": {
  "kernelspec": {
   "display_name": "venv",
   "language": "python",
   "name": "python3"
  },
  "language_info": {
   "codemirror_mode": {
    "name": "ipython",
    "version": 3
   },
   "file_extension": ".py",
   "mimetype": "text/x-python",
   "name": "python",
   "nbconvert_exporter": "python",
   "pygments_lexer": "ipython3",
   "version": "3.11.6"
  }
 },
 "nbformat": 4,
 "nbformat_minor": 5
}
